{
 "cells": [
  {
   "cell_type": "markdown",
   "metadata": {},
   "source": [
    "Solve\n",
    "\n",
    "\\begin{align}\n",
    "\\min_{x,y,z} \\quad & 0.5(\\sum_{i=1}^4 (x_i - d_{1i})^2 + (y_i - d_{2i})^2 + (z_i - d_{3i})^2 + (x_i - y_i)^2 + (y_i - z_i)^2) \\\\\n",
    "\\text{s.t.} \\quad & x_1 = x_2 \\\\\n",
    "& x_2 = x_3 \\\\\n",
    "& x_3 = x_4 \\\\\n",
    "& y_1 = y_2 \\\\\n",
    "& y_3 = y_4\n",
    "\\end{align}"
   ]
  },
  {
   "cell_type": "code",
   "execution_count": 1,
   "metadata": {},
   "outputs": [],
   "source": [
    "import numpy as np\n",
    "import cvxpy as cp"
   ]
  },
  {
   "cell_type": "code",
   "execution_count": 2,
   "metadata": {},
   "outputs": [],
   "source": [
    "d = np.array([[1, 2, 3, 4], [-1, 1, 3, 10], [10, 15, 20, 25]])\n",
    "n = 4"
   ]
  },
  {
   "cell_type": "code",
   "execution_count": 28,
   "metadata": {},
   "outputs": [
    {
     "name": "stdout",
     "output_type": "stream",
     "text": [
      "[3.40625 3.40625 3.40625 3.40625]\n",
      "[4.6625 4.6625 7.4625 7.4625]\n",
      "[ 7.33125  9.83125 13.73125 16.23125]\n"
     ]
    }
   ],
   "source": [
    "xv = cp.Variable(n)\n",
    "yv = cp.Variable(n)\n",
    "zv = cp.Variable(n)\n",
    "\n",
    "objective = cp.Minimize(0.5*(cp.sum_squares(xv - d[0]) + cp.sum_squares(yv - d[1]) + cp.sum_squares(zv - d[2]) + cp.sum_squares(xv-yv) + cp.sum_squares(yv-zv)))\n",
    "\n",
    "cons = [xv[0] == xv[1], xv[1] == xv[2], xv[2] == xv[3], yv[0] == yv[1], yv[2] == yv[3]]\n",
    "\n",
    "prob = cp.Problem(objective, cons)\n",
    "\n",
    "result = prob.solve()\n",
    "\n",
    "print(xv.value)\n",
    "print(yv.value)\n",
    "print(zv.value)"
   ]
  },
  {
   "cell_type": "code",
   "execution_count": 29,
   "metadata": {},
   "outputs": [
    {
     "name": "stdout",
     "output_type": "stream",
     "text": [
      "-2.15\n",
      "-4.3\n",
      "-2.65\n",
      "-3.25\n",
      "-5.250000000000001\n"
     ]
    }
   ],
   "source": [
    "# Print dual variables\n",
    "for con in cons:\n",
    "    print(con.dual_value)"
   ]
  },
  {
   "cell_type": "code",
   "execution_count": 30,
   "metadata": {},
   "outputs": [
    {
     "data": {
      "text/plain": [
       "array([[ 0,  0,  1,  2],\n",
       "       [ 0,  4,  0,  8],\n",
       "       [10, 15, 20, 25]])"
      ]
     },
     "execution_count": 30,
     "metadata": {},
     "output_type": "execute_result"
    }
   ],
   "source": [
    "d"
   ]
  },
  {
   "cell_type": "code",
   "execution_count": 6,
   "metadata": {},
   "outputs": [
    {
     "name": "stdout",
     "output_type": "stream",
     "text": [
      "[[0.36666667 0.1        0.03333333]\n",
      " [0.1        0.3        0.1       ]\n",
      " [0.03333333 0.1        0.36666667]]\n"
     ]
    }
   ],
   "source": [
    "A = np.array([[3, -1, 0], [-1, 4, -1], [0, -1, 3]])\n",
    "Ainv = np.linalg.inv(A)\n",
    "print(Ainv)"
   ]
  },
  {
   "cell_type": "code",
   "execution_count": 31,
   "metadata": {},
   "outputs": [],
   "source": [
    "class fusedQuad():\n",
    "\n",
    "    def __init__(self, data):\n",
    "        self.data = data['d']\n",
    "        self.shape = data['shape']\n",
    "        self.x = self.data.copy()\n",
    "\n",
    "    def prox(self, x, tau=1.0):\n",
    "        self.x[:-1] = x\n",
    "        self.x = Ainv @ (self.data + tau * self.x)\n",
    "        return self.x[:-1]\n"
   ]
  },
  {
   "cell_type": "code",
   "execution_count": 22,
   "metadata": {},
   "outputs": [
    {
     "data": {
      "text/plain": [
       "array([ 0,  0, 10])"
      ]
     },
     "execution_count": 22,
     "metadata": {},
     "output_type": "execute_result"
    }
   ],
   "source": [
    "d[:,0]"
   ]
  },
  {
   "cell_type": "markdown",
   "metadata": {},
   "source": []
  },
  {
   "cell_type": "code",
   "execution_count": 19,
   "metadata": {},
   "outputs": [],
   "source": [
    "ff = fusedQuad({'d': d[:,0], 'shape': 2})"
   ]
  },
  {
   "cell_type": "code",
   "execution_count": 20,
   "metadata": {},
   "outputs": [
    {
     "name": "stdout",
     "output_type": "stream",
     "text": [
      "[0.66666667 2.        ]\n",
      "[1.02222222 2.4       ]\n",
      "[1.16740741 2.48      ]\n",
      "[1.2211358 2.496    ]\n",
      "[1.24011193 2.4992    ]\n",
      "[1.24665064 2.49984   ]\n",
      "[1.24887288 2.499968  ]\n",
      "[1.24962216 2.4999936 ]\n",
      "[1.24987363 2.49999872]\n",
      "[1.24995779 2.49999974]\n"
     ]
    }
   ],
   "source": [
    "y = np.zeros(2)\n",
    "for i in range(10):\n",
    "    y = ff.prox(y)  \n",
    "    print(y)"
   ]
  },
  {
   "cell_type": "code",
   "execution_count": 21,
   "metadata": {},
   "outputs": [
    {
     "data": {
      "text/plain": [
       "array([1.24995779, 2.49999974, 6.25004247])"
      ]
     },
     "execution_count": 21,
     "metadata": {},
     "output_type": "execute_result"
    }
   ],
   "source": [
    "ff.x"
   ]
  },
  {
   "cell_type": "code",
   "execution_count": 40,
   "metadata": {},
   "outputs": [
    {
     "name": "stdout",
     "output_type": "stream",
     "text": [
      "itrs 41 x [3.40624978 4.66250036] v 0 [5.55624928 7.91250101]\n",
      "itrs 41 x [3.40625049 4.66249993] v 1 [ 2.15000123 -7.91250101]\n",
      "itrs 41 x [3.40625015 7.46249975] v 2 [-1.64999986 12.71249931]\n",
      "itrs 41 x [3.40624968 7.46250005] v 3 [ -6.05625066 -12.71249931]\n"
     ]
    }
   ],
   "source": [
    "resolvents = [fusedQuad({'d': d[:,i], 'shape': 2}) for i in range(4)]\n",
    "itrs = 1000\n",
    "num_stages = 2\n",
    "stage_dims = [1, 1]\n",
    "x = np.zeros((num_stages, 4))\n",
    "v = np.zeros((num_stages, 4))\n",
    "vLx = np.zeros(num_stages)\n",
    "gamma = 0.5\n",
    "stages = [0, 1]\n",
    "L = [{(1, 0): 1, (2, 1): 1, (3,0):1, (3, 2): 1}, {(1,0): 2, (3,2): 2}]\n",
    "W = [{(0, 1): -1, (0, 3): -1, (1, 0): -1, (1, 2): -1, (2, 1): -1, (2, 3): -1, (3, 0): -1, (3, 2): -1}, {(0, 1): -2, (1, 0): -2, (2, 3): -2, (3, 2): -2}]\n",
    "links = [[[], [0], [1], [0, 2]], [[], [0], [], [2]]]\n",
    "Wlinks = [[[1, 3], [0, 2], [1, 3], [0, 2]], [[1], [0], [3], [2]]]\n",
    "for itr in range(itrs):\n",
    "    for i in range(4):\n",
    "        for s in stages:\n",
    "            vLx[s] = v[s,i] + sum(L[s][i,j] * x[s,j] for j in links[s][i])\n",
    "        x[:,i] = resolvents[i].prox(vLx)\n",
    "        # print('Itr', itr, 'x', i, x[:,i])\n",
    "    for i in range(4):\n",
    "        delta = 0.0\n",
    "        for s in stages:\n",
    "            delta_s = sum(W[s][i,j]*x[s,j] for j in Wlinks[s][i]) + 2.0*x[s,i]\n",
    "            delta += delta_s**2\n",
    "            v[s, i] = v[s, i] - gamma*delta_s\n",
    "    if delta**0.5 < 1e-6:\n",
    "        break\n",
    "\n",
    "for i in range(4):\n",
    "    print('itrs', itr, 'x', x[:,i], 'v', i, v[:,i])\n",
    "        # print('Itr', itr, 'v', i, v[:,i])"
   ]
  },
  {
   "cell_type": "code",
   "execution_count": 37,
   "metadata": {},
   "outputs": [
    {
     "name": "stdout",
     "output_type": "stream",
     "text": [
      "[3.40625 3.40625 3.40625 3.40625]\n",
      "[4.6625 4.6625 7.4625 7.4625]\n"
     ]
    }
   ],
   "source": [
    "print(xv.value)\n",
    "print(yv.value)\n"
   ]
  },
  {
   "cell_type": "code",
   "execution_count": null,
   "metadata": {},
   "outputs": [],
   "source": []
  }
 ],
 "metadata": {
  "kernelspec": {
   "display_name": "stochastic",
   "language": "python",
   "name": "python3"
  },
  "language_info": {
   "codemirror_mode": {
    "name": "ipython",
    "version": 3
   },
   "file_extension": ".py",
   "mimetype": "text/x-python",
   "name": "python",
   "nbconvert_exporter": "python",
   "pygments_lexer": "ipython3",
   "version": "undefined.undefined.undefined"
  }
 },
 "nbformat": 4,
 "nbformat_minor": 2
}
