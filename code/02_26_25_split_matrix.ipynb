{
 "cells": [
  {
   "cell_type": "code",
   "execution_count": 1,
   "metadata": {},
   "outputs": [],
   "source": [
    "import numpy as np\n",
    "from oars.matrices import getFull, getMfromWCholesky"
   ]
  },
  {
   "cell_type": "code",
   "execution_count": 2,
   "metadata": {},
   "outputs": [
    {
     "data": {
      "text/plain": [
       "array([[ 2., -2.],\n",
       "       [-2.,  2.]])"
      ]
     },
     "execution_count": 2,
     "metadata": {},
     "output_type": "execute_result"
    }
   ],
   "source": [
    "Zt, Wt = getFull(2)\n",
    "Zt"
   ]
  },
  {
   "cell_type": "code",
   "execution_count": 3,
   "metadata": {},
   "outputs": [
    {
     "data": {
      "text/plain": [
       "array([[ 2., -2.,  0.,  0.],\n",
       "       [-2.,  2.,  0.,  0.],\n",
       "       [ 0.,  0.,  2., -2.],\n",
       "       [ 0.,  0., -2.,  2.]])"
      ]
     },
     "execution_count": 3,
     "metadata": {},
     "output_type": "execute_result"
    }
   ],
   "source": [
    "M = np.block([[Zt, np.zeros((2,2))], [np.zeros((2,2)), Zt]])\n",
    "M"
   ]
  },
  {
   "cell_type": "code",
   "execution_count": 4,
   "metadata": {},
   "outputs": [
    {
     "data": {
      "text/plain": [
       "EighResult(eigenvalues=array([0., 0., 4., 4.]), eigenvectors=array([[-0.70710678, -0.        ,  0.        , -0.70710678],\n",
       "       [-0.70710678, -0.        ,  0.        ,  0.70710678],\n",
       "       [-0.        , -0.70710678, -0.70710678,  0.        ],\n",
       "       [-0.        , -0.70710678,  0.70710678,  0.        ]]))"
      ]
     },
     "execution_count": 4,
     "metadata": {},
     "output_type": "execute_result"
    }
   ],
   "source": [
    "np.linalg.eigh(M)"
   ]
  },
  {
   "cell_type": "code",
   "execution_count": 5,
   "metadata": {},
   "outputs": [
    {
     "data": {
      "text/plain": [
       "array([[ 2.,  0., -2.,  0.],\n",
       "       [-2.,  0.,  2.,  0.]])"
      ]
     },
     "execution_count": 5,
     "metadata": {},
     "output_type": "execute_result"
    }
   ],
   "source": [
    "Ba = np.array([[1, 0, 0, 0], [0,0,1,0]])\n",
    "Zt @ Ba"
   ]
  },
  {
   "cell_type": "code",
   "execution_count": 6,
   "metadata": {},
   "outputs": [
    {
     "data": {
      "text/plain": [
       "array([[0, 0, 0, 0],\n",
       "       [2, 0, 0, 0]])"
      ]
     },
     "execution_count": 6,
     "metadata": {},
     "output_type": "execute_result"
    }
   ],
   "source": [
    "Lt = np.array([[0,0], [2, 0]])\n",
    "Lt @Ba"
   ]
  },
  {
   "cell_type": "code",
   "execution_count": 7,
   "metadata": {},
   "outputs": [
    {
     "data": {
      "text/plain": [
       "array([ 1,  0, -1,  0])"
      ]
     },
     "execution_count": 7,
     "metadata": {},
     "output_type": "execute_result"
    }
   ],
   "source": [
    "Mt = np.array([1, -1])\n",
    "Mt @ Ba"
   ]
  },
  {
   "cell_type": "code",
   "execution_count": 8,
   "metadata": {},
   "outputs": [
    {
     "data": {
      "text/plain": [
       "array([ 1,  0, -1,  0])"
      ]
     },
     "execution_count": 8,
     "metadata": {},
     "output_type": "execute_result"
    }
   ],
   "source": [
    "(Mt @ Ba).T"
   ]
  },
  {
   "cell_type": "code",
   "execution_count": 9,
   "metadata": {},
   "outputs": [
    {
     "data": {
      "text/plain": [
       "array([[-1.22474487,  1.22474487,  0.        ],\n",
       "       [-0.70710678, -0.70710678,  1.41421356]])"
      ]
     },
     "execution_count": 9,
     "metadata": {},
     "output_type": "execute_result"
    }
   ],
   "source": [
    "Z, W = getFull(3)\n",
    "M = getMfromWCholesky(W)\n",
    "M"
   ]
  },
  {
   "cell_type": "code",
   "execution_count": 10,
   "metadata": {},
   "outputs": [
    {
     "data": {
      "text/plain": [
       "1.224744871391589"
      ]
     },
     "execution_count": 10,
     "metadata": {},
     "output_type": "execute_result"
    }
   ],
   "source": [
    "(3/2)**0.5"
   ]
  },
  {
   "cell_type": "code",
   "execution_count": 13,
   "metadata": {},
   "outputs": [
    {
     "name": "stdout",
     "output_type": "stream",
     "text": [
      "Matrix([[0, 0, 0, 0, 0, 0, 0, 0], [0, 0, 0, 0, 0, 0, 0, 0], [L1_1_0, 0, 0, 0, 0, 0, 0, 0], [0, 0, 0, 0, 0, 0, 0, 0], [0, L2_1_0, 0, 0, 0, 0, 0, 0], [0, 0, 0, L3_1_0, 0, 0, 0, 0], [L1_2_0, 0, L1_2_1, 0, 0, 0, 0, 0], [0, L2_2_0, 0, 0, L2_2_1, 0, 0, 0]])\n"
     ]
    }
   ],
   "source": [
    "from sympy import symbols, Matrix, eye, zeros\n",
    "\n",
    "def calculate_KT_LK(L1_dim, L2_dim, L3_dim, permutation):\n",
    "    \"\"\"\n",
    "    Calculates K^T L K where:\n",
    "    - K is a permutation matrix formed from unit vectors e_i.\n",
    "    - L is a block diagonal matrix with lower triangular matrices L1, L2, L3.\n",
    "\n",
    "    Args:\n",
    "        L1_dim (int): Dimension of L1.\n",
    "        L2_dim (int): Dimension of L2.\n",
    "        L3_dim (int): Dimension of L3.\n",
    "        permutation (list): List of indices representing the permutation of unit vectors.\n",
    "\n",
    "    Returns:\n",
    "        sympy.Matrix: The result of K^T L K.\n",
    "    \"\"\"\n",
    "\n",
    "    total_dim = L1_dim + L2_dim + L3_dim\n",
    "    K = Matrix.zeros(total_dim, total_dim)\n",
    "    L = Matrix.zeros(total_dim, total_dim)\n",
    "\n",
    "    # Create permutation matrix K\n",
    "    for i, index in enumerate(permutation):\n",
    "        K[i, index - 1] = 1  # Subtract 1 because indices are 1-based\n",
    "\n",
    "    # Create block diagonal matrix L\n",
    "    L1 = Matrix(L1_dim, L1_dim, lambda i, j: symbols(f'L1_{i}_{j}') if i > j else 0)\n",
    "    L2 = Matrix(L2_dim, L2_dim, lambda i, j: symbols(f'L2_{i}_{j}') if i > j else 0)\n",
    "    L3 = Matrix(L3_dim, L3_dim, lambda i, j: symbols(f'L3_{i}_{j}') if i > j else 0)\n",
    "\n",
    "    L[:L1_dim, :L1_dim] = L1\n",
    "    L[L1_dim:L1_dim + L2_dim, L1_dim:L1_dim + L2_dim] = L2\n",
    "    L[L1_dim + L2_dim:, L1_dim + L2_dim:] = L3\n",
    "\n",
    "    # Calculate K^T L K\n",
    "    KT = K.T\n",
    "    result = KT * L * K\n",
    "\n",
    "    return result\n",
    "\n",
    "# Example usage:\n",
    "L1_dim = 3\n",
    "L2_dim = 3\n",
    "L3_dim = 2\n",
    "permutation = [1, 3, 7, 2, 5, 8, 4, 6]\n",
    "\n",
    "result = calculate_KT_LK(L1_dim, L2_dim, L3_dim, permutation)\n",
    "print(result)"
   ]
  },
  {
   "cell_type": "code",
   "execution_count": 14,
   "metadata": {},
   "outputs": [
    {
     "data": {
      "text/latex": [
       "$\\displaystyle \\left[\\begin{matrix}0 & 0 & 0 & 0 & 0 & 0 & 0 & 0\\\\0 & 0 & 0 & 0 & 0 & 0 & 0 & 0\\\\L_{1 1 0} & 0 & 0 & 0 & 0 & 0 & 0 & 0\\\\0 & 0 & 0 & 0 & 0 & 0 & 0 & 0\\\\0 & L_{2 1 0} & 0 & 0 & 0 & 0 & 0 & 0\\\\0 & 0 & 0 & L_{3 1 0} & 0 & 0 & 0 & 0\\\\L_{1 2 0} & 0 & L_{1 2 1} & 0 & 0 & 0 & 0 & 0\\\\0 & L_{2 2 0} & 0 & 0 & L_{2 2 1} & 0 & 0 & 0\\end{matrix}\\right]$"
      ],
      "text/plain": [
       "Matrix([\n",
       "[     0,      0,      0,      0,      0, 0, 0, 0],\n",
       "[     0,      0,      0,      0,      0, 0, 0, 0],\n",
       "[L1_1_0,      0,      0,      0,      0, 0, 0, 0],\n",
       "[     0,      0,      0,      0,      0, 0, 0, 0],\n",
       "[     0, L2_1_0,      0,      0,      0, 0, 0, 0],\n",
       "[     0,      0,      0, L3_1_0,      0, 0, 0, 0],\n",
       "[L1_2_0,      0, L1_2_1,      0,      0, 0, 0, 0],\n",
       "[     0, L2_2_0,      0,      0, L2_2_1, 0, 0, 0]])"
      ]
     },
     "execution_count": 14,
     "metadata": {},
     "output_type": "execute_result"
    }
   ],
   "source": [
    "result"
   ]
  },
  {
   "cell_type": "code",
   "execution_count": null,
   "metadata": {},
   "outputs": [],
   "source": []
  }
 ],
 "metadata": {
  "kernelspec": {
   "display_name": "stochastic",
   "language": "python",
   "name": "python3"
  },
  "language_info": {
   "codemirror_mode": {
    "name": "ipython",
    "version": 3
   },
   "file_extension": ".py",
   "mimetype": "text/x-python",
   "name": "python",
   "nbconvert_exporter": "python",
   "pygments_lexer": "ipython3",
   "version": "3.12.7"
  }
 },
 "nbformat": 4,
 "nbformat_minor": 2
}
