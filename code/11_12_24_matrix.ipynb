{
 "cells": [
  {
   "cell_type": "code",
   "execution_count": 3,
   "metadata": {},
   "outputs": [],
   "source": [
    "import numpy as np\n",
    "np.set_printoptions(precision=2, suppress=True, linewidth=200)\n",
    "import cvxpy as cp"
   ]
  },
  {
   "cell_type": "code",
   "execution_count": 2,
   "metadata": {},
   "outputs": [
    {
     "data": {
      "text/plain": [
       "array([[ 1., -1.,  0.,  0.,  0.,  0.,  0.,  0.],\n",
       "       [ 0.,  1., -1.,  0.,  0.,  0.,  0.,  0.],\n",
       "       [ 0.,  0.,  1., -1.,  0.,  0.,  0.,  0.],\n",
       "       [ 0.,  0.,  0.,  0.,  1., -1.,  0.,  0.],\n",
       "       [ 0.,  0.,  0.,  0.,  0.,  0.,  1., -1.]])"
      ]
     },
     "execution_count": 2,
     "metadata": {},
     "output_type": "execute_result"
    }
   ],
   "source": [
    "n = 4 \n",
    "m = 2\n",
    "d = 5\n",
    "A = np.zeros((d, n*m))\n",
    "A[0, 0] = 1\n",
    "A[0, 1] = -1\n",
    "A[1, 1] = 1\n",
    "A[1, 2] = -1\n",
    "A[2, 2] = 1\n",
    "A[2, 3] = -1\n",
    "A[3, 4] = 1\n",
    "A[3, 5] = -1\n",
    "A[4, 6] = 1\n",
    "A[4, 7] = -1\n",
    "A"
   ]
  },
  {
   "cell_type": "code",
   "execution_count": 7,
   "metadata": {},
   "outputs": [
    {
     "name": "stdout",
     "output_type": "stream",
     "text": [
      "[3.41 2.   0.   0.59 2.   0.   2.   0.  ]\n",
      "[[-0.27 -0.5  -0.5  -0.65  0.    0.    0.    0.  ]\n",
      " [ 0.65  0.5  -0.5  -0.27  0.    0.    0.    0.  ]\n",
      " [-0.65  0.5  -0.5   0.27  0.    0.    0.    0.  ]\n",
      " [ 0.27 -0.5  -0.5   0.65  0.    0.    0.    0.  ]\n",
      " [ 0.    0.    0.    0.    0.71  0.71  0.    0.  ]\n",
      " [ 0.    0.    0.    0.   -0.71  0.71  0.    0.  ]\n",
      " [ 0.    0.    0.    0.    0.    0.    0.71  0.71]\n",
      " [ 0.    0.    0.    0.    0.    0.   -0.71  0.71]]\n"
     ]
    }
   ],
   "source": [
    "eigs, vecs = np.linalg.eig(A.T @ A)\n",
    "print(eigs)\n",
    "print(vecs)"
   ]
  },
  {
   "cell_type": "code",
   "execution_count": 8,
   "metadata": {},
   "outputs": [
    {
     "data": {
      "text/plain": [
       "array([[ 1., -1.,  0.,  0.,  0.,  0.,  0.,  0.],\n",
       "       [-1.,  2., -1.,  0.,  0.,  0.,  0.,  0.],\n",
       "       [ 0., -1.,  2., -1.,  0.,  0.,  0.,  0.],\n",
       "       [ 0.,  0., -1.,  1.,  0.,  0.,  0.,  0.],\n",
       "       [ 0.,  0.,  0.,  0.,  1., -1.,  0.,  0.],\n",
       "       [ 0.,  0.,  0.,  0., -1.,  1.,  0.,  0.],\n",
       "       [ 0.,  0.,  0.,  0.,  0.,  0.,  1., -1.],\n",
       "       [ 0.,  0.,  0.,  0.,  0.,  0., -1.,  1.]])"
      ]
     },
     "execution_count": 8,
     "metadata": {},
     "output_type": "execute_result"
    }
   ],
   "source": [
    "A.T @ A"
   ]
  },
  {
   "cell_type": "code",
   "execution_count": 10,
   "metadata": {},
   "outputs": [],
   "source": [
    "np.random.seed(0)"
   ]
  },
  {
   "cell_type": "code",
   "execution_count": 17,
   "metadata": {},
   "outputs": [],
   "source": [
    "scens = [2, 4, 4]\n",
    "xvar = cp.Variable(2, nonneg=True)\n",
    "yvar = cp.Variable((scens[0], 2), nonneg=True)\n",
    "zvar = cp.Variable((scens[1], 2), nonneg=True)\n"
   ]
  },
  {
   "cell_type": "code",
   "execution_count": 22,
   "metadata": {},
   "outputs": [
    {
     "name": "stdout",
     "output_type": "stream",
     "text": [
      "[array([[1.2, 0.2],\n",
      "       [0.2, 1.2]]), array([[ 8.81,  7.91],\n",
      "       [11.02,  8.93],\n",
      "       [ 3.96,  7.5 ],\n",
      "       [10.  ,  9.36]]), array([[10.73,  9.21],\n",
      "       [ 9.9 ,  6.64],\n",
      "       [ 6.  ,  8.01],\n",
      "       [13.5 ,  8.19]])]\n"
     ]
    }
   ],
   "source": [
    "q = []\n",
    "for s in scens:\n",
    "    q.append(np.random.normal(size=(s, 2))*np.array([2, 1]) + np.array([9, 8]))\n",
    "q[0] = np.eye(2)+ 0.2*np.ones((2, 2))\n",
    "# q[1] = np.block([np.eye(2), np.eye(2)]).T\n",
    "obj = cp.Maximize(cp.sum(cp.multiply(zvar, q[2])))\n",
    "print(q)"
   ]
  },
  {
   "cell_type": "code",
   "execution_count": 23,
   "metadata": {},
   "outputs": [],
   "source": [
    "cons = [cp.sum(xvar) == 1]\n",
    "for s in range(scens[0]):\n",
    "    cons += [cp.sum(yvar[s]) == q[0][s] @ xvar]#, y[s] >= cp.multiply(q[0][s], x) - .2*np.ones(2), y[s] <= cp.multiply(q[0][s], x) + .2*np.ones(2)]\n",
    "for s in range(scens[1]):\n",
    "    cons += [cp.sum(zvar[s]) == q[1][s] @ yvar[s // 2]]#, z[s] >= cp.multiply(q[1][s], y[s // 2]) - .2*np.ones(2), z[s] <= cp.multiply(q[1][s], y[s // 2]) + .2*np.ones(2)]\n"
   ]
  },
  {
   "cell_type": "code",
   "execution_count": 24,
   "metadata": {},
   "outputs": [
    {
     "name": "stdout",
     "output_type": "stream",
     "text": [
      "281.73971959767067\n"
     ]
    }
   ],
   "source": [
    "prob = cp.Problem(obj, cons)\n",
    "prob.solve()\n",
    "print(prob.value)\n"
   ]
  },
  {
   "cell_type": "code",
   "execution_count": 25,
   "metadata": {},
   "outputs": [
    {
     "name": "stdout",
     "output_type": "stream",
     "text": [
      "[1. 0.]\n",
      "[[1.2 0. ]\n",
      " [0.  0.2]]\n",
      "[[10.57  0.  ]\n",
      " [13.23  0.  ]\n",
      " [ 0.    1.5 ]\n",
      " [ 1.87  0.  ]]\n",
      "281.73971959767067\n",
      "203.72086374230295\n",
      "186.37341553453564\n",
      "10.734187445791722\n",
      "9.902785504557599\n",
      "8.010965486196769\n",
      "13.498561347158347\n"
     ]
    }
   ],
   "source": [
    "print(xvar.value)\n",
    "print(yvar.value)\n",
    "print(zvar.value)\n",
    "\n",
    "# Print dual variables\n",
    "for con in cons:\n",
    "    print(con.dual_value)"
   ]
  },
  {
   "cell_type": "code",
   "execution_count": 125,
   "metadata": {},
   "outputs": [
    {
     "name": "stdout",
     "output_type": "stream",
     "text": [
      "[-0.2 -0.2]\n",
      "[0.2 0.2]\n",
      "[-0.2 -0.2]\n",
      "[0.2 0.2]\n",
      "[-0.2 -0.2]\n",
      "[0.2 0.2]\n",
      "[-0.2  0.8]\n",
      "[0.2 1.2]\n"
     ]
    }
   ],
   "source": [
    "for s in range(scens[1]):\n",
    "    print((cp.multiply(q[1][s], y[s // 2]) - .2*np.ones(2)).value)\n",
    "    print((cp.multiply(q[1][s], y[s // 2]) + .2*np.ones(2)).value)"
   ]
  },
  {
   "cell_type": "code",
   "execution_count": 127,
   "metadata": {},
   "outputs": [
    {
     "data": {
      "text/plain": [
       "array([[ 0.  ,  0.  ],\n",
       "       [ 0.  ,  0.  ],\n",
       "       [ 0.  ,  0.  ],\n",
       "       [10.18,  0.  ]])"
      ]
     },
     "execution_count": 127,
     "metadata": {},
     "output_type": "execute_result"
    }
   ],
   "source": [
    "cp.multiply(z, q[2]).value"
   ]
  },
  {
   "cell_type": "code",
   "execution_count": 11,
   "metadata": {},
   "outputs": [],
   "source": [
    "def build_problem(q, warmstart, rho=1):\n",
    "    x = cp.Variable((3, 2), nonneg=True)\n",
    "    x.value = warmstart\n",
    "    z = cp.Parameter((3, 2))\n",
    "    z.value = warmstart\n",
    "    cons = [cp.sum(x[0]) == 1,\n",
    "            cp.sum(x[1]) == q[0] @ x[0],\n",
    "            cp.sum(x[2]) == q[1] @ x[1]]\n",
    "    obj = cp.Minimize(-cp.sum(x[2] @ q[2].T) + 0.5*rho*cp.norm(x - z, 'fro'))\n",
    "    prob = cp.Problem(obj, cons)\n",
    "    return prob, z, x\n"
   ]
  },
  {
   "cell_type": "code",
   "execution_count": 12,
   "metadata": {},
   "outputs": [],
   "source": [
    "class finance():\n",
    "\n",
    "    def __init__(self, q, warmstart):\n",
    "        self.prob, self.z, self.x = build_problem(q, warmstart)\n",
    "\n",
    "    def prox(self, x, t=1):\n",
    "        self.z.value[:2] = x\n",
    "        self.prob.solve()\n",
    "        self.z.value[2:] = self.x.value[2:]\n",
    "        return self.x.value[:2]"
   ]
  },
  {
   "cell_type": "code",
   "execution_count": 145,
   "metadata": {},
   "outputs": [
    {
     "ename": "TypeError",
     "evalue": "finance.__init__() missing 1 required positional argument: 'warmstart'",
     "output_type": "error",
     "traceback": [
      "\u001b[1;31m---------------------------------------------------------------------------\u001b[0m",
      "\u001b[1;31mTypeError\u001b[0m                                 Traceback (most recent call last)",
      "Cell \u001b[1;32mIn[145], line 1\u001b[0m\n\u001b[1;32m----> 1\u001b[0m f1 \u001b[38;5;241m=\u001b[39m \u001b[43mfinance\u001b[49m\u001b[43m(\u001b[49m\u001b[43m[\u001b[49m\u001b[43mnp\u001b[49m\u001b[38;5;241;43m.\u001b[39;49m\u001b[43marray\u001b[49m\u001b[43m(\u001b[49m\u001b[43m[\u001b[49m\u001b[38;5;241;43m1\u001b[39;49m\u001b[43m,\u001b[49m\u001b[38;5;241;43m0\u001b[39;49m\u001b[43m]\u001b[49m\u001b[43m)\u001b[49m\u001b[43m,\u001b[49m\u001b[43m \u001b[49m\u001b[43mq\u001b[49m\u001b[43m[\u001b[49m\u001b[38;5;241;43m1\u001b[39;49m\u001b[43m]\u001b[49m\u001b[43m[\u001b[49m\u001b[38;5;241;43m0\u001b[39;49m\u001b[43m]\u001b[49m\u001b[43m,\u001b[49m\u001b[43m \u001b[49m\u001b[43mq\u001b[49m\u001b[43m[\u001b[49m\u001b[38;5;241;43m2\u001b[39;49m\u001b[43m]\u001b[49m\u001b[43m[\u001b[49m\u001b[38;5;241;43m0\u001b[39;49m\u001b[43m]\u001b[49m\u001b[43m]\u001b[49m\u001b[43m)\u001b[49m\n",
      "\u001b[1;31mTypeError\u001b[0m: finance.__init__() missing 1 required positional argument: 'warmstart'"
     ]
    }
   ],
   "source": [
    "f1 = finance([np.array([1,0]), q[1][0], q[2][0]])"
   ]
  },
  {
   "cell_type": "code",
   "execution_count": 146,
   "metadata": {},
   "outputs": [
    {
     "data": {
      "text/plain": [
       "array([[ 1.  ,  0.  ],\n",
       "       [ 1.  ,  0.  ],\n",
       "       [10.55,  0.  ]])"
      ]
     },
     "execution_count": 146,
     "metadata": {},
     "output_type": "execute_result"
    }
   ],
   "source": [
    "z = np.zeros((3, 2))\n",
    "f1.prox(z, 1)"
   ]
  },
  {
   "cell_type": "code",
   "execution_count": 90,
   "metadata": {},
   "outputs": [],
   "source": [
    "f2 = finance([np.array([0, 1]), q[1][1], q[2][2]])"
   ]
  },
  {
   "cell_type": "code",
   "execution_count": 91,
   "metadata": {},
   "outputs": [
    {
     "data": {
      "text/plain": [
       "array([[0.  , 1.  ],\n",
       "       [0.  , 1.  ],\n",
       "       [8.61, 0.  ]])"
      ]
     },
     "execution_count": 91,
     "metadata": {},
     "output_type": "execute_result"
    }
   ],
   "source": [
    "f2.prox(z, 1)"
   ]
  },
  {
   "cell_type": "code",
   "execution_count": 1,
   "metadata": {},
   "outputs": [],
   "source": [
    "from oars import matrices"
   ]
  },
  {
   "cell_type": "code",
   "execution_count": 26,
   "metadata": {},
   "outputs": [],
   "source": [
    "x = [np.zeros((2, 2)) for _ in range(4)]\n",
    "v = [np.zeros((2, 2)) for _ in range(4)]\n",
    "Lx = np.zeros((2, 2)) \n",
    "Wx = np.zeros((2, 2))\n",
    "Zdr, Wdr = matrices.getFull(2)\n",
    "Zmt, Wmt = matrices.getMT(4)\n",
    "Zdr_full = {(i+ 2*k, j + 2*k): Zdr[i, j] for i in range(2) for j in range(2) for k in range(2)}\n",
    "Wdr_full = {(i+ 2*k, j + 2*k): Wdr[i, j] for i in range(2) for j in range(2) for k in range(2)}\n",
    "Zs = [Zmt, Zdr_full]\n",
    "Ws = [Wmt, Wdr_full]\n",
    "qlist = [[q[0][s//2], q[1][s], q[2][s]] for s in range(4)]\n",
    "Ni = [[[],[]], [[0], [0]], [[1], []], [[0, 2], [2]]]\n",
    "Mi = [[[1, 3],[1]], [[0,2], [0]], [[1, 3], [3]], [[0, 2], [2]]]"
   ]
  },
  {
   "cell_type": "code",
   "execution_count": 27,
   "metadata": {},
   "outputs": [
    {
     "name": "stdout",
     "output_type": "stream",
     "text": [
      "Iteration 0 Node 0 x [[1.  0. ]\n",
      " [1.2 0. ]]\n",
      "Iteration 0 Node 1 x [[1.  0. ]\n",
      " [1.2 0. ]]\n",
      "Iteration 0 Node 2 x [[0.  1. ]\n",
      " [0.  1.2]]\n",
      "Iteration 0 Node 3 x [[0.  1. ]\n",
      " [1.2 0. ]]\n",
      "Iteration 0 Node 0 v [[-0.  0.]\n",
      " [-0.  0.]]\n",
      "Iteration 0 Node 1 v [[ 0.5 -0.5]\n",
      " [ 0.  -0. ]]\n",
      "Iteration 0 Node 2 v [[-0.5  0.5]\n",
      " [-1.2  1.2]]\n",
      "Iteration 0 Node 3 v [[-0.   0. ]\n",
      " [ 1.2 -1.2]]\n",
      "Iteration 100 Node 0 x [[1.  0. ]\n",
      " [1.2 0. ]]\n",
      "Iteration 100 Node 1 x [[1.  0. ]\n",
      " [1.2 0. ]]\n",
      "Iteration 100 Node 2 x [[0.  1. ]\n",
      " [0.  1.2]]\n",
      "Iteration 100 Node 3 x [[0.  1. ]\n",
      " [1.2 0. ]]\n",
      "Iteration 100 Node 0 v [[ 0. -0.]\n",
      " [ 0. -0.]]\n",
      "Iteration 100 Node 1 v [[ 50.5 -50.5]\n",
      " [ -0.    0. ]]\n",
      "Iteration 100 Node 2 v [[ -50.5   50.5]\n",
      " [-121.2  121.2]]\n",
      "Iteration 100 Node 3 v [[   0.    -0. ]\n",
      " [ 121.2 -121.2]]\n",
      "Iteration 200 Node 0 x [[1.  0. ]\n",
      " [1.2 0. ]]\n",
      "Iteration 200 Node 1 x [[1.  0. ]\n",
      " [1.2 0. ]]\n",
      "Iteration 200 Node 2 x [[0.  1. ]\n",
      " [0.  1.2]]\n",
      "Iteration 200 Node 3 x [[0.  1. ]\n",
      " [1.2 0. ]]\n",
      "Iteration 200 Node 0 v [[ 0. -0.]\n",
      " [ 0. -0.]]\n",
      "Iteration 200 Node 1 v [[ 100.5 -100.5]\n",
      " [  -0.     0. ]]\n",
      "Iteration 200 Node 2 v [[-100.5  100.5]\n",
      " [-241.2  241.2]]\n",
      "Iteration 200 Node 3 v [[   0.    -0. ]\n",
      " [ 241.2 -241.2]]\n",
      "Iteration 300 Node 0 x [[1.  0. ]\n",
      " [1.2 0. ]]\n",
      "Iteration 300 Node 1 x [[1.  0. ]\n",
      " [1.2 0. ]]\n",
      "Iteration 300 Node 2 x [[0.  1. ]\n",
      " [0.  1.2]]\n",
      "Iteration 300 Node 3 x [[0.  1. ]\n",
      " [1.2 0. ]]\n",
      "Iteration 300 Node 0 v [[ 0. -0.]\n",
      " [ 0. -0.]]\n",
      "Iteration 300 Node 1 v [[ 150.5 -150.5]\n",
      " [  -0.     0. ]]\n",
      "Iteration 300 Node 2 v [[-150.5  150.5]\n",
      " [-361.2  361.2]]\n",
      "Iteration 300 Node 3 v [[  -0.     0. ]\n",
      " [ 361.2 -361.2]]\n"
     ]
    },
    {
     "ename": "TypeError",
     "evalue": "'NoneType' object is not subscriptable",
     "output_type": "error",
     "traceback": [
      "\u001b[1;31m---------------------------------------------------------------------------\u001b[0m",
      "\u001b[1;31mTypeError\u001b[0m                                 Traceback (most recent call last)",
      "Cell \u001b[1;32mIn[27], line 13\u001b[0m\n\u001b[0;32m     11\u001b[0m Lx[\u001b[38;5;241m0\u001b[39m] \u001b[38;5;241m=\u001b[39m \u001b[38;5;28msum\u001b[39m(Zs[\u001b[38;5;241m0\u001b[39m][i, j] \u001b[38;5;241m*\u001b[39m x[j][\u001b[38;5;241m0\u001b[39m] \u001b[38;5;28;01mfor\u001b[39;00m j \u001b[38;5;129;01min\u001b[39;00m Ni[i][\u001b[38;5;241m0\u001b[39m])\n\u001b[0;32m     12\u001b[0m Lx[\u001b[38;5;241m1\u001b[39m] \u001b[38;5;241m=\u001b[39m \u001b[38;5;28msum\u001b[39m(Zs[\u001b[38;5;241m1\u001b[39m][i, j] \u001b[38;5;241m*\u001b[39m x[j][\u001b[38;5;241m1\u001b[39m] \u001b[38;5;28;01mfor\u001b[39;00m j \u001b[38;5;129;01min\u001b[39;00m Ni[i][\u001b[38;5;241m1\u001b[39m])\n\u001b[1;32m---> 13\u001b[0m x[i] \u001b[38;5;241m=\u001b[39m \u001b[43mresolvents\u001b[49m\u001b[43m[\u001b[49m\u001b[43mi\u001b[49m\u001b[43m]\u001b[49m\u001b[38;5;241;43m.\u001b[39;49m\u001b[43mprox\u001b[49m\u001b[43m(\u001b[49m\u001b[43mv\u001b[49m\u001b[43m[\u001b[49m\u001b[43mi\u001b[49m\u001b[43m]\u001b[49m\u001b[43m \u001b[49m\u001b[38;5;241;43m-\u001b[39;49m\u001b[43m \u001b[49m\u001b[43mLx\u001b[49m\u001b[43m,\u001b[49m\u001b[43m \u001b[49m\u001b[43malpha\u001b[49m\u001b[43m)\u001b[49m\n\u001b[0;32m     14\u001b[0m \u001b[38;5;28;01mif\u001b[39;00m itr\u001b[38;5;241m%\u001b[39mitr_period \u001b[38;5;241m==\u001b[39m \u001b[38;5;241m0\u001b[39m \u001b[38;5;129;01mand\u001b[39;00m debug:\n\u001b[0;32m     15\u001b[0m     \u001b[38;5;28mprint\u001b[39m(\u001b[38;5;124m'\u001b[39m\u001b[38;5;124mIteration\u001b[39m\u001b[38;5;124m'\u001b[39m, itr, \u001b[38;5;124m'\u001b[39m\u001b[38;5;124mNode\u001b[39m\u001b[38;5;124m'\u001b[39m, i, \u001b[38;5;124m'\u001b[39m\u001b[38;5;124mx\u001b[39m\u001b[38;5;124m'\u001b[39m, x[i])\n",
      "Cell \u001b[1;32mIn[12], line 9\u001b[0m, in \u001b[0;36mfinance.prox\u001b[1;34m(self, x, t)\u001b[0m\n\u001b[0;32m      7\u001b[0m \u001b[38;5;28mself\u001b[39m\u001b[38;5;241m.\u001b[39mz\u001b[38;5;241m.\u001b[39mvalue[:\u001b[38;5;241m2\u001b[39m] \u001b[38;5;241m=\u001b[39m x\n\u001b[0;32m      8\u001b[0m \u001b[38;5;28mself\u001b[39m\u001b[38;5;241m.\u001b[39mprob\u001b[38;5;241m.\u001b[39msolve()\n\u001b[1;32m----> 9\u001b[0m \u001b[38;5;28mself\u001b[39m\u001b[38;5;241m.\u001b[39mz\u001b[38;5;241m.\u001b[39mvalue[\u001b[38;5;241m2\u001b[39m:] \u001b[38;5;241m=\u001b[39m \u001b[38;5;28;43mself\u001b[39;49m\u001b[38;5;241;43m.\u001b[39;49m\u001b[43mx\u001b[49m\u001b[38;5;241;43m.\u001b[39;49m\u001b[43mvalue\u001b[49m\u001b[43m[\u001b[49m\u001b[38;5;241;43m2\u001b[39;49m\u001b[43m:\u001b[49m\u001b[43m]\u001b[49m\n\u001b[0;32m     10\u001b[0m \u001b[38;5;28;01mreturn\u001b[39;00m \u001b[38;5;28mself\u001b[39m\u001b[38;5;241m.\u001b[39mx\u001b[38;5;241m.\u001b[39mvalue[:\u001b[38;5;241m2\u001b[39m]\n",
      "\u001b[1;31mTypeError\u001b[0m: 'NoneType' object is not subscriptable"
     ]
    }
   ],
   "source": [
    "itrs = 1000\n",
    "itr_period = max(1, itrs//10)\n",
    "n = 4\n",
    "alpha = 1\n",
    "gamma = 0.5\n",
    "debug = True\n",
    "warm = np.zeros((3, 2))\n",
    "resolvents = [finance(qd, warm) for qd in qlist]\n",
    "for itr in range(itrs):\n",
    "    for i in range(n):\n",
    "        Lx[0] = sum(Zs[0][i, j] * x[j][0] for j in Ni[i][0])\n",
    "        Lx[1] = sum(Zs[1][i, j] * x[j][1] for j in Ni[i][1])\n",
    "        x[i] = resolvents[i].prox(v[i] - Lx, alpha)\n",
    "        if itr%itr_period == 0 and debug:\n",
    "            print('Iteration', itr, 'Node', i, 'x', x[i])\n",
    "\n",
    "    for i in range(n):\n",
    "        Wx[0] = sum(Ws[0][i, j] * x[j][0] for j in Mi[i][0]) + Ws[0][i, i] * x[i][0]\n",
    "        Wx[1] = sum(Ws[1][i, j] * x[j][1] for j in Mi[i][1]) + Ws[1][i, i] * x[i][1]\n",
    "        v[i] = v[i] + gamma*Wx\n",
    "        if itr%itr_period == 0 and debug:\n",
    "            print('Iteration', itr, 'Node', i, 'v', v[i])\n",
    "\n",
    "    # print(x)\n",
    "    # print(v)"
   ]
  },
  {
   "cell_type": "code",
   "execution_count": null,
   "metadata": {},
   "outputs": [],
   "source": []
  }
 ],
 "metadata": {
  "kernelspec": {
   "display_name": "oarstest",
   "language": "python",
   "name": "python3"
  },
  "language_info": {
   "codemirror_mode": {
    "name": "ipython",
    "version": 3
   },
   "file_extension": ".py",
   "mimetype": "text/x-python",
   "name": "python",
   "nbconvert_exporter": "python",
   "pygments_lexer": "ipython3",
   "version": "3.12.2"
  }
 },
 "nbformat": 4,
 "nbformat_minor": 2
}
